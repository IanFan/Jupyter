{
 "cells": [
  {
   "cell_type": "markdown",
   "metadata": {},
   "source": [
    "## Random 用法"
   ]
  },
  {
   "cell_type": "code",
   "execution_count": 1,
   "metadata": {},
   "outputs": [],
   "source": [
    "import numpy as np\n",
    "from matplotlib import pyplot as plt\n",
    "\n",
    "np.random.seed(1)"
   ]
  },
  {
   "cell_type": "code",
   "execution_count": 7,
   "metadata": {},
   "outputs": [
    {
     "name": "stdout",
     "output_type": "stream",
     "text": [
      "[6.34506061 9.34314779 7.54577988 9.91695797 6.7590553 ]\n"
     ]
    },
    {
     "data": {
      "image/png": "[encoded data removed]",
      "text/plain": [
       "<Figure size 432x288 with 1 Axes>"
      ]
     },
     "metadata": {
      "needs_background": "light"
     },
     "output_type": "display_data"
    },
    {
     "name": "stdout",
     "output_type": "stream",
     "text": [
      "[9 8 6 8 9]\n"
     ]
    },
    {
     "data": {
      "image/png": "[encoded data removed]",
      "text/plain": [
       "<Figure size 432x288 with 1 Axes>"
      ]
     },
     "metadata": {
      "needs_background": "light"
     },
     "output_type": "display_data"
    }
   ],
   "source": [
    "# float 左閉右開\n",
    "x = np.random.uniform(0, 10, 1000)\n",
    "print(x[:5])\n",
    "plt.hist(x)\n",
    "plt.show()\n",
    "\n",
    "# int 左閉右開\n",
    "x = np.random.randint(0, 10, 1000)\n",
    "print(x[:5])\n",
    "plt.hist(x)\n",
    "plt.show()"
   ]
  },
  {
   "cell_type": "markdown",
   "metadata": {},
   "source": [
    "numpy.random.normal(loc=0.0, scale=1.0, size=None)\n",
    "loc：float\n",
    "    此概率分布的均值（對應著整個分布的中心centre）\n",
    "scale：float\n",
    "    此概率分布的標準差（對應於分布的寬度，scale越大越寬，scale越小，越窄）\n",
    "size：int or tuple of ints\n",
    "    輸出的shape，默認為None，只輸出一個值"
   ]
  },
  {
   "cell_type": "code",
   "execution_count": 19,
   "metadata": {},
   "outputs": [
    {
     "name": "stdout",
     "output_type": "stream",
     "text": [
      "[[-2.90491004]\n",
      " [-0.12376236]\n",
      " [ 0.37445437]\n",
      " [ 0.71469104]\n",
      " [-0.7668539 ]]\n"
     ]
    },
    {
     "data": {
      "image/png": "[encoded data removed]",
      "text/plain": [
       "<Figure size 432x288 with 1 Axes>"
      ]
     },
     "metadata": {
      "needs_background": "light"
     },
     "output_type": "display_data"
    }
   ],
   "source": [
    "# 正態分佈\n",
    "x = np.random.normal(loc=0, scale=1, size=[5, 1])\n",
    "print(x)\n",
    "plt.hist(x)\n",
    "plt.show()"
   ]
  },
  {
   "cell_type": "code",
   "execution_count": 4,
   "metadata": {},
   "outputs": [
    {
     "name": "stdout",
     "output_type": "stream",
     "text": [
      "0.0034418343257808237\n",
      "[[0.62988376 0.87103193]\n",
      " [0.55558988 0.92113026]\n",
      " [0.69962056 0.03835029]\n",
      " [0.62725298 0.51769312]\n",
      " [0.5459113  0.81037732]]\n"
     ]
    },
    {
     "data": {
      "image/png": "[encoded data removed]",
      "text/plain": [
       "<Figure size 432x288 with 1 Axes>"
      ]
     },
     "metadata": {
      "needs_background": "light"
     },
     "output_type": "display_data"
    }
   ],
   "source": [
    "# 根據給定維度生成[0,1)之間的數據，包含0，不包含1\n",
    "x = np.random.rand()\n",
    "print(x)\n",
    "\n",
    "x = np.random.rand(1000, 2)\n",
    "print(x[:5])\n",
    "plt.hist(x)\n",
    "plt.show()"
   ]
  },
  {
   "cell_type": "code",
   "execution_count": 6,
   "metadata": {},
   "outputs": [
    {
     "name": "stdout",
     "output_type": "stream",
     "text": [
      "0.054581870695953716\n",
      "-0.39568139389399115\n",
      "[[ 0.18324103 -1.03195524]\n",
      " [ 1.17316287 -0.59433711]\n",
      " [ 0.39212419 -0.9760123 ]\n",
      " [-1.01200269 -0.52335277]\n",
      " [ 1.49999021  0.85327538]]\n"
     ]
    },
    {
     "data": {
      "image/png": "[encoded data removed]",
      "text/plain": [
       "<Figure size 432x288 with 1 Axes>"
      ]
     },
     "metadata": {
      "needs_background": "light"
     },
     "output_type": "display_data"
    }
   ],
   "source": [
    "# 根據給定維度生成正態分佈的數據\n",
    "x = np.random.randn()\n",
    "print(x)\n",
    "\n",
    "x = np.random.randn(1000, 2)\n",
    "print(x[:5])\n",
    "plt.hist(x)\n",
    "plt.show()"
   ]
  },
  {
   "cell_type": "code",
   "execution_count": 14,
   "metadata": {},
   "outputs": [
    {
     "name": "stdout",
     "output_type": "stream",
     "text": [
      "[12 11 12 11 11]\n"
     ]
    },
    {
     "data": {
      "image/png": "[encoded data removed]",
      "text/plain": [
       "<Figure size 432x288 with 1 Axes>"
      ]
     },
     "metadata": {
      "needs_background": "light"
     },
     "output_type": "display_data"
    }
   ],
   "source": [
    "# x = np.random.choice(3, size=10, replace=True, p=[0.1, 0.6, 0.3])\n",
    "x = np.random.choice([10, 11, 12], size=1000, replace=True, p=[0.2, 0.5, 0.3])\n",
    "print(x[:5])\n",
    "plt.hist(x)\n",
    "plt.show()"
   ]
  },
  {
   "cell_type": "code",
   "execution_count": 32,
   "metadata": {},
   "outputs": [
    {
     "name": "stdout",
     "output_type": "stream",
     "text": [
      "[0.16666666666666666, 0.16666666666666666, 0.16666666666666666, 0.16666666666666666, 0.16666666666666666, 0.16666666666666666]\n",
      "[[0 1 0 0 0 0]]\n",
      "[[1 1 0 2 0 1]\n",
      " [1 0 0 3 1 0]]\n"
     ]
    }
   ],
   "source": [
    "print([1/6.]*6)\n",
    "samples = np.random.multinomial(1, [1/6.]*6, size=1)\n",
    "print(samples)\n",
    "samples = np.random.multinomial(5, [1/6.]*6, size=2)\n",
    "print(samples)"
   ]
  },
  {
   "cell_type": "code",
   "execution_count": 21,
   "metadata": {},
   "outputs": [
    {
     "name": "stdout",
     "output_type": "stream",
     "text": [
      "[0 6 9 7 2 4 3 1 8 5]\n"
     ]
    }
   ],
   "source": [
    "x = np.random.permutation([0, 1, 2, 3, 4, 5, 6, 7, 8, 9])\n",
    "print(x)"
   ]
  },
  {
   "cell_type": "code",
   "execution_count": null,
   "metadata": {},
   "outputs": [],
   "source": []
  }
 ],
 "metadata": {
  "kernelspec": {
   "display_name": "Python 3",
   "language": "python",
   "name": "python3"
  },
  "language_info": {
   "codemirror_mode": {
    "name": "ipython",
    "version": 3
   },
   "file_extension": ".py",
   "mimetype": "text/x-python",
   "name": "python",
   "nbconvert_exporter": "python",
   "pygments_lexer": "ipython3",
   "version": "3.6.7"
  }
 },
 "nbformat": 4,
 "nbformat_minor": 2
}

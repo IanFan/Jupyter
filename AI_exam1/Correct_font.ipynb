{
 "cells": [
  {
   "cell_type": "code",
   "execution_count": 5,
   "metadata": {},
   "outputs": [],
   "source": [
    "import os\n",
    "import numpy as np\n",
    "import pandas as pd\n",
    "import matplotlib.pyplot as plt\n",
    "from PIL import Image\n",
    "import tensorflow as tf"
   ]
  },
  {
   "cell_type": "code",
   "execution_count": 6,
   "metadata": {},
   "outputs": [
    {
     "name": "stdout",
     "output_type": "stream",
     "text": [
      "Path of read in data: ./data/words.csv\n",
      "Path of read in data: ./data/fonts_pos.csv\n"
     ]
    }
   ],
   "source": [
    "dir_data = './data'\n",
    "\n",
    "words_path = os.path.join(dir_data, 'words.csv')\n",
    "print('Path of read in data: %s' % (words_path))\n",
    "\n",
    "fonts_pos_path = os.path.join(dir_data, 'fonts_pos.csv')\n",
    "print('Path of read in data: %s' % (fonts_pos_path))"
   ]
  },
  {
   "cell_type": "code",
   "execution_count": 7,
   "metadata": {},
   "outputs": [
    {
     "name": "stdout",
     "output_type": "stream",
     "text": [
      "8877\n",
      "   Unnamed: 0           Pics Words\n",
      "0           0  uni4E00_一.png     一\n",
      "1           1  uni4E0A_上.png     上\n",
      "2           2  uni4E0B_下.png     下\n",
      "3           3  uni4E0C_丌.png     丌\n",
      "4           4  uni4E0D_不.png     不\n",
      "            Pics\n",
      "3  uni4E0C_丌.png\n",
      "22\n",
      "   Unnamed: 0               Fonts\n",
      "0           0              AaBuYu\n",
      "1           1             AaGHZKS\n",
      "2           2  AaHaohaohaoxiangni\n",
      "3           3       AaMangxiaoguo\n",
      "4           4        AaMengMengti\n",
      "8877\n",
      "[[1. 0. 0. ... 0. 0. 0.]\n",
      " [0. 1. 0. ... 0. 0. 0.]\n",
      " [0. 0. 1. ... 0. 0. 0.]\n",
      " ...\n",
      " [0. 0. 0. ... 1. 0. 0.]\n",
      " [0. 0. 0. ... 0. 1. 0.]\n",
      " [0. 0. 0. ... 0. 0. 1.]]\n"
     ]
    }
   ],
   "source": [
    "'''\n",
    "pic_names = []\n",
    "with open('chinese_fonts.txt', 'r') as f: \n",
    "    data = f.readlines()\n",
    "    for str in data:\n",
    "        str = str.replace('\\n','')\n",
    "        pic_names.append(str)\n",
    "\n",
    "df = pd.DataFrame({'Fonts':pic_names})\n",
    "df.to_csv('Fonts.csv')\n",
    "df\n",
    "print(len(df))\n",
    "print(df.head())\n",
    "\n",
    "print(df.iloc[5])\n",
    "'''\n",
    "\n",
    "df_words = pd.read_csv(words_path)\n",
    "print(len(df_words))\n",
    "print(df_words.head())\n",
    "print(df_words.iloc[[3], [1]])\n",
    "\n",
    "pd_fonts = pd.read_csv(fonts_pos_path)\n",
    "print(len(pd_fonts))\n",
    "print(pd_fonts.head())\n",
    "\n",
    "y_one_hot = np.zeros([len(df_words), len(df_words)])\n",
    "# print(y_one_hot)\n",
    "print(len(y_one_hot))\n",
    "for i in range(len(df_words)):\n",
    "    y_one_hot[i, i] = 1\n",
    "print(y_one_hot)\n",
    "\n",
    "fonts = pd_fonts['Fonts'].values\n",
    "pics = df_words['Pics'].values\n",
    "words = df_words['Words'].values"
   ]
  },
  {
   "cell_type": "code",
   "execution_count": 15,
   "metadata": {},
   "outputs": [
    {
     "name": "stdout",
     "output_type": "stream",
     "text": [
      "(22, 8877, 4096)\n",
      "(22, 8877, 8877)\n"
     ]
    }
   ],
   "source": [
    "'''\n",
    "x_trains = []\n",
    "for i in range(len(fonts)):\n",
    "    x_train = []\n",
    "    dir_font = './data/training_data/positive_data/'+fonts[i]+'/'\n",
    "    for j in range(len(words)):\n",
    "        im = Image.open(dir_font + pics[j])\n",
    "        im = np.array(im) #convert to an array\n",
    "        im2 = (im/255).astype(float) #normalise input\n",
    "        x_train.append(im)\n",
    "    x_trains.append(x_train)    \n",
    "x_trains = np.array(x_trains).reshape(len(fonts), -1, 64*64)\n",
    "np.save('data/x_trains.npy', x_trains)\n",
    "'''\n",
    "\n",
    "y_trains = []\n",
    "for i in range(len(fonts)):\n",
    "    y_train = []\n",
    "    dir_font = './data/training_data/positive_data/'+fonts[i]+'/'\n",
    "    for j in range(len(words)):\n",
    "        y_train.append(y_one_hot[j])\n",
    "    x_trains.append(x_train)\n",
    "    y_trains.append(y_train)\n",
    "y_trains = np.array(y_trains)\n",
    "# np.save('data/y_trains.npy', y_trains)\n",
    "\n",
    "x_trains = np.load('data/x_trains.npy')\n",
    "# y_trains = np.load('data/y_trains.npy')\n",
    "print(x_trains.shape)\n",
    "print(y_trains.shape)\n",
    "    "
   ]
  },
  {
   "cell_type": "code",
   "execution_count": null,
   "metadata": {},
   "outputs": [
    {
     "name": "stdout",
     "output_type": "stream",
     "text": [
      "Learning stared. It takes sometime.\n"
     ]
    }
   ],
   "source": [
    "x = tf.placeholder(tf.float32, [None, 64*64])\n",
    "x_img = tf.reshape(x, [-1, 64, 64, 1])\n",
    "y = tf.placeholder(tf.float32, [None, len(df_words)])\n",
    "keep_prob = tf.placeholder(tf.float32)\n",
    "\n",
    "conv1 = tf.layers.conv2d(inputs=x_img, filters=128, kernel_size=5, strides=1, padding='SAME', activation=tf.nn.relu)\n",
    "pool1 = tf.layers.max_pooling2d(conv1, pool_size=2, strides=2)\n",
    "dropout1 = tf.nn.dropout(pool1, keep_prob=keep_prob)\n",
    "\n",
    "conv2 = tf.layers.conv2d(conv1, filters=256, kernel_size=5, strides=1, padding='SAME', activation=tf.nn.relu)\n",
    "pool2 = tf.layers.max_pooling2d(conv2, pool_size=2, strides=2)\n",
    "dropout2 = tf.nn.dropout(pool2, keep_prob=keep_prob)\n",
    "\n",
    "flat = tf.reshape(dropout2, [-1, 16*16*256])\n",
    "hypothesis = tf.layers.dense(flat, len(df_words))\n",
    "cost = tf.reduce_mean(tf.nn.softmax_cross_entropy_with_logits_v2(logits=hypothesis, labels=y))\n",
    "# hypothesis = tf.nn.softmax(tf.matmul(flat, w_fc) + b_fc)\n",
    "# cost = tf.reduce_mean(-tf.reduce_sum(y*tf.log(hypothesis), axis=1))\n",
    "\n",
    "train =  tf.train.AdamOptimizer(learning_rate=0.01).minimize(cost)\n",
    "\n",
    "sess = tf.Session()\n",
    "sess.run(tf.global_variables_initializer())\n",
    "\n",
    "writer = tf.summary.FileWriter(\"./logs\")\n",
    "writer.add_graph(sess.graph)\n",
    "cost_sum = tf.summary.scalar(\"cost\", cost)\n",
    "summary = tf.summary.merge_all()\n",
    "\n",
    "def accuracy():\n",
    "    predict = tf.equal(tf.argmax(hypothesis, 1), tf.argmax(y, 1))\n",
    "    accuracy = tf.reduce_mean(tf.cast(predict, tf.float32))\n",
    "    # x_test = mnist.test.images\n",
    "    # y_test = mnist.test.labels\n",
    "    x_test = x_trains[1]\n",
    "    y_test = y_trains[1]\n",
    "    print(\"test accuracy: \", sess.run(accuracy, feed_dict={x: x_test, y: y_test, keep_prob: 1.0}))\n",
    "\n",
    "training_epochs = 2\n",
    "batch_size = 100\n",
    "global_step = 0\n",
    "print(\"Learning stared. It takes sometime.\")\n",
    "for epoch in range(training_epochs):\n",
    "    total_batch = 10\n",
    "    avg_cost = 0\n",
    "    for batch in range(total_batch):\n",
    "        x_train = x_trains[0]\n",
    "        y_train = y_trains[0]\n",
    "        \n",
    "        permutation = np.random.permutation(x_train.shape[0])\n",
    "        x_train = x_train[permutation]\n",
    "        y_train = y_train[permutation]\n",
    "        \n",
    "        s, c, _ = sess.run([summary, cost, train], feed_dict={x:x_train, y:y_train, keep_prob:0.7})\n",
    "        avg_cost += c/total_batch\n",
    "        writer.add_summary(s, global_step=global_step)\n",
    "        global_step += 1\n",
    "    print(\"epoch %2d\" % epoch, \"avg_cost %.9f\" % avg_cost)\n",
    "    accuracy()\n",
    "print(\"Learning Finished!\")\n",
    "    \n",
    "# training_epochs = 2\n",
    "# batch_size = 100\n",
    "# global_step = 0\n",
    "# print(\"Learning stared. It takes sometime.\")\n",
    "# for epoch in range(training_epochs):\n",
    "#     total_batch = int(mnist.train.num_examples/batch_size)\n",
    "#     avg_cost = 0\n",
    "#     for batch in range(total_batch):\n",
    "#         x_train_batch, y_train_batch = mnist.train.next_batch(batch_size)\n",
    "#         s, c, _ = sess.run([summary, cost, train], feed_dict={x:x_train_batch, y:y_train_batch, keep_prob:0.7})\n",
    "#         avg_cost += c/total_batch\n",
    "#         writer.add_summary(s, global_step=global_step)\n",
    "#         global_step += 1\n",
    "#     print(\"epoch %2d\" % epoch, \"avg_cost %.9f\" % avg_cost)\n",
    "#     accuracy()\n",
    "# print(\"Learning Finished!\")\n",
    "\n",
    "sess.close()"
   ]
  },
  {
   "cell_type": "code",
   "execution_count": null,
   "metadata": {},
   "outputs": [],
   "source": []
  }
 ],
 "metadata": {
  "kernelspec": {
   "display_name": "Python 3",
   "language": "python",
   "name": "python3"
  },
  "language_info": {
   "codemirror_mode": {
    "name": "ipython",
    "version": 3
   },
   "file_extension": ".py",
   "mimetype": "text/x-python",
   "name": "python",
   "nbconvert_exporter": "python",
   "pygments_lexer": "ipython3",
   "version": "3.6.7"
  }
 },
 "nbformat": 4,
 "nbformat_minor": 2
}

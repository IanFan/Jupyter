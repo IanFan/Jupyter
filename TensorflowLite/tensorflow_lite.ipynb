{
 "cells": [
  {
   "cell_type": "code",
   "execution_count": 9,
   "metadata": {},
   "outputs": [],
   "source": [
    "import tensorflow as tf\n",
    "import matplotlib.pyplot as plt\n",
    "import numpy as np"
   ]
  },
  {
   "cell_type": "code",
   "execution_count": 2,
   "metadata": {},
   "outputs": [
    {
     "name": "stdout",
     "output_type": "stream",
     "text": [
      "1.13.0-dev20190126\n"
     ]
    }
   ],
   "source": [
    "print(tf.__version__)"
   ]
  },
  {
   "cell_type": "code",
   "execution_count": 4,
   "metadata": {},
   "outputs": [
    {
     "name": "stderr",
     "output_type": "stream",
     "text": [
      "W0127 13:28:28.922559 4474193344 deprecation.py:323] From /Users/ianfan/anaconda3/envs/spinningup/lib/python3.6/site-packages/tensorflow/lite/python/lite.py:636: convert_variables_to_constants (from tensorflow.python.framework.graph_util_impl) is deprecated and will be removed in a future version.\n",
      "Instructions for updating:\n",
      "Use tf.compat.v1.graph_util.convert_variables_to_constants\n",
      "W0127 13:28:28.923194 4474193344 deprecation.py:323] From /Users/ianfan/anaconda3/envs/spinningup/lib/python3.6/site-packages/tensorflow/python/framework/graph_util_impl.py:245: extract_sub_graph (from tensorflow.python.framework.graph_util_impl) is deprecated and will be removed in a future version.\n",
      "Instructions for updating:\n",
      "Use tf.compat.v1.graph_util.extract_sub_graph\n"
     ]
    }
   ],
   "source": [
    "# import tensorflow as tf\n",
    "\n",
    "# img = tf.placeholder(name=\"img\", dtype=tf.float32, shape=(1, 64, 64, 3))\n",
    "# var = tf.get_variable(\"weights\", dtype=tf.float32, shape=(1, 64, 64, 3))\n",
    "# val = img + var\n",
    "# out = tf.identity(val, name=\"out\")\n",
    "\n",
    "# with tf.Session() as sess:\n",
    "#   sess.run(tf.global_variables_initializer())\n",
    "#   converter = tf.lite.TFLiteConverter.from_session(sess, [img], [out])\n",
    "#   tflite_model = converter.convert()\n",
    "#   open(\"converted_model.tflite\", \"wb\").write(tflite_model)"
   ]
  },
  {
   "cell_type": "code",
   "execution_count": 10,
   "metadata": {},
   "outputs": [
    {
     "name": "stdout",
     "output_type": "stream",
     "text": [
      "This is save\n",
      "Saved\n",
      "Tensorflow Lite Converted\n"
     ]
    },
    {
     "data": {
      "image/png": "[encoded data removed]",
      "text/plain": [
       "<Figure size 720x360 with 1 Axes>"
      ]
     },
     "metadata": {
      "needs_background": "light"
     },
     "output_type": "display_data"
    }
   ],
   "source": [
    "tf.set_random_seed(1)\n",
    "np.random.seed(1)\n",
    "\n",
    "# fake data\n",
    "x = np.linspace(-1, 1, 100)[:, np.newaxis]          # shape (100, 1)\n",
    "noise = np.random.normal(0, 0.1, size=x.shape)\n",
    "y = np.power(x, 2) + noise                          # shape (100, 1) + some noise\n",
    "\n",
    "def save():\n",
    "    print('This is save')\n",
    "    # build neural network\n",
    "    tf_x = tf.placeholder(tf.float32, x.shape)  # input x\n",
    "    tf_y = tf.placeholder(tf.float32, y.shape)  # input y\n",
    "    l = tf.layers.dense(tf_x, 10, tf.nn.relu)          # hidden layer\n",
    "    o = tf.layers.dense(l, 1)                     # output layer\n",
    "    loss = tf.losses.mean_squared_error(tf_y, o)   # compute cost\n",
    "    train_op = tf.train.GradientDescentOptimizer(learning_rate=0.5).minimize(loss)\n",
    "\n",
    "    sess = tf.Session()\n",
    "    sess.run(tf.global_variables_initializer())  # initialize var in graph\n",
    "\n",
    "    saver = tf.train.Saver()  # define a saver for saving and restoring\n",
    "\n",
    "    for step in range(1000):                             # train\n",
    "        sess.run(train_op, {tf_x: x, tf_y: y})\n",
    "\n",
    "    save_path = saver.save(sess, \"my_net/model.ckpt\")\n",
    "    tf.train.write_graph(sess.graph_def, '', 'graph.pb')\n",
    "    print('Saved')\n",
    "    \n",
    "    converter = tf.lite.TFLiteConverter.from_session(sess,[tf_x], [o])\n",
    "    tflite_model = converter.convert()\n",
    "    open(\"converted_model.tflite\", \"wb\").write(tflite_model)\n",
    "    print('Tensorflow Lite Converted')\n",
    "\n",
    "    # plotting\n",
    "    pred, l = sess.run([o, loss], {tf_x: x, tf_y: y})\n",
    "    plt.figure(1, figsize=(10, 5))\n",
    "    plt.subplot(121)\n",
    "    plt.scatter(x, y)\n",
    "    plt.plot(x, pred, 'r-', lw=5)\n",
    "    plt.text(-1, 1.2, 'Save Loss=%.4f' % l, fontdict={'size': 15, 'color': 'red'})\n",
    "\n",
    "\n",
    "def reload():\n",
    "    print('This is reload')\n",
    "    # build entire net again and restore\n",
    "    tf_x = tf.placeholder(tf.float32, x.shape)  # input x\n",
    "    tf_y = tf.placeholder(tf.float32, y.shape)  # input y\n",
    "    l_ = tf.layers.dense(tf_x, 10, tf.nn.relu)          # hidden layer\n",
    "    o_ = tf.layers.dense(l_, 1)                     # output layer\n",
    "    loss_ = tf.losses.mean_squared_error(tf_y, o_)   # compute cost\n",
    "\n",
    "    sess = tf.Session()\n",
    "    # don't need to initialize variables, just restoring trained variables\n",
    "    saver = tf.train.Saver()  # define a saver for saving and restoring\n",
    "    # saver.restore(sess, './params')\n",
    "    saver.restore(sess, \"my_net/save_net.ckpt\")\n",
    "    print('Reloaded')\n",
    "\n",
    "    # plotting\n",
    "    pred, l = sess.run([o_, loss_], {tf_x: x, tf_y: y})\n",
    "    plt.subplot(122)\n",
    "    plt.scatter(x, y)\n",
    "    plt.plot(x, pred, 'r-', lw=5)\n",
    "    plt.text(-1, 1.2, 'Reload Loss=%.4f' % l, fontdict={'size': 15, 'color': 'red'})\n",
    "    plt.show()\n",
    "\n",
    "\n",
    "save()\n",
    "\n",
    "# destroy previous net\n",
    "tf.reset_default_graph()\n",
    "\n",
    "# reload()\n",
    "\n"
   ]
  },
  {
   "cell_type": "code",
   "execution_count": null,
   "metadata": {},
   "outputs": [],
   "source": []
  }
 ],
 "metadata": {
  "kernelspec": {
   "display_name": "Python 3",
   "language": "python",
   "name": "python3"
  },
  "language_info": {
   "codemirror_mode": {
    "name": "ipython",
    "version": 3
   },
   "file_extension": ".py",
   "mimetype": "text/x-python",
   "name": "python",
   "nbconvert_exporter": "python",
   "pygments_lexer": "ipython3",
   "version": "3.6.7"
  }
 },
 "nbformat": 4,
 "nbformat_minor": 2
}

{
 "cells": [
  {
   "cell_type": "code",
   "execution_count": 29,
   "metadata": {},
   "outputs": [
    {
     "name": "stdout",
     "output_type": "stream",
     "text": [
      "   u  d\n",
      "1  0  1\n",
      "2  1  1\n",
      "<class 'pandas.core.series.Series'>\n",
      "1    0\n",
      "Name: u, dtype: object\n",
      "Index(['1'], dtype='object')\n"
     ]
    }
   ],
   "source": [
    "import pandas as pd\n",
    "\n",
    "a = pd.DataFrame(columns=['u', 'd'])\n",
    "a = a.append(pd.Series([0, 1], name='1', index=['u', 'd']))\n",
    "a = a.append(pd.Series([1, 1], name='2', index=['u', 'd']))\n",
    "# a = [1, 2, 3]\n",
    "print(a)\n",
    "b = a.loc[['1'], 'u']\n",
    "print(type(b))\n",
    "print(b)\n",
    "print(b.index)\n"
   ]
  },
  {
   "cell_type": "code",
   "execution_count": null,
   "metadata": {},
   "outputs": [],
   "source": []
  }
 ],
 "metadata": {
  "kernelspec": {
   "display_name": "Python 3",
   "language": "python",
   "name": "python3"
  },
  "language_info": {
   "codemirror_mode": {
    "name": "ipython",
    "version": 3
   },
   "file_extension": ".py",
   "mimetype": "text/x-python",
   "name": "python",
   "nbconvert_exporter": "python",
   "pygments_lexer": "ipython3",
   "version": "3.6.7"
  }
 },
 "nbformat": 4,
 "nbformat_minor": 2
}

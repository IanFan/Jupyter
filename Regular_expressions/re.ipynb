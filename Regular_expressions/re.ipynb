{
 "cells": [
  {
   "cell_type": "markdown",
   "metadata": {},
   "source": [
    "# Python 正規表示法"
   ]
  },
  {
   "cell_type": "code",
   "execution_count": 1,
   "metadata": {},
   "outputs": [],
   "source": [
    "import re"
   ]
  },
  {
   "cell_type": "markdown",
   "metadata": {},
   "source": [
    "## 數字"
   ]
  },
  {
   "cell_type": "code",
   "execution_count": 2,
   "metadata": {},
   "outputs": [
    {
     "name": "stdout",
     "output_type": "stream",
     "text": [
      "<_sre.SRE_Match object; span=(16, 20), match='2019'>\n",
      "2019\n",
      "16 20\n"
     ]
    }
   ],
   "source": [
    "# \\d 一個數字\n",
    "str = 'Today is 06 May 2019.'\n",
    "mo = re.search('\\d\\d\\d\\d', str)\n",
    "print(mo)\n",
    "print(mo.group())\n",
    "print(mo.start(), mo.end())"
   ]
  },
  {
   "cell_type": "markdown",
   "metadata": {},
   "source": [
    "## 英文字母"
   ]
  },
  {
   "cell_type": "code",
   "execution_count": 3,
   "metadata": {},
   "outputs": [
    {
     "name": "stdout",
     "output_type": "stream",
     "text": [
      "2019-MAY-06\n"
     ]
    }
   ],
   "source": [
    "# [] 或\n",
    "str = 'Today is 2019-MAY-06'\n",
    "mo = re.search('\\d\\d\\d\\d-[A-Z][A-Z][A-Z]-\\d\\d', str)\n",
    "print(mo.group())"
   ]
  },
  {
   "cell_type": "code",
   "execution_count": 4,
   "metadata": {},
   "outputs": [
    {
     "name": "stdout",
     "output_type": "stream",
     "text": [
      "2019-May-06\n",
      "2019-May-06\n",
      "2019-May-06\n"
     ]
    }
   ],
   "source": [
    "# A-Z 大寫英文字母 a-z 小寫英文字母\n",
    "str = 'Today is 2019-May-06'\n",
    "mo = re.search('\\d\\d\\d\\d-[A-Z][a-z][a-z]-\\d\\d', str)\n",
    "print(mo.group())\n",
    "\n",
    "# A-Za-z 大小寫英文字母\n",
    "str = 'Today is 2019-May-06'\n",
    "mo = re.search('\\d\\d\\d\\d-[A-Za-z][A-Za-z][A-Za-z]-\\d\\d', str)\n",
    "print(mo.group())\n",
    "\n",
    "# re.IGNORECASE 忽略英文字母大小寫\n",
    "str = 'Today is 2019-May-06'\n",
    "mo = re.search('\\d\\d\\d\\d-[A-Z][A-Z][A-Z]-\\d\\d', str, re.IGNORECASE)\n",
    "print(mo.group())"
   ]
  },
  {
   "cell_type": "markdown",
   "metadata": {},
   "source": [
    "## 連續"
   ]
  },
  {
   "cell_type": "code",
   "execution_count": 5,
   "metadata": {},
   "outputs": [
    {
     "name": "stdout",
     "output_type": "stream",
     "text": [
      "2012\n"
     ]
    }
   ],
   "source": [
    "# {a} 連續a個\n",
    "str = 'Today is 2012-May-06'\n",
    "mo = re.search('\\d{4}', str, re.IGNORECASE)\n",
    "print(mo.group())"
   ]
  },
  {
   "cell_type": "code",
   "execution_count": 6,
   "metadata": {},
   "outputs": [
    {
     "name": "stdout",
     "output_type": "stream",
     "text": [
      "2019-May-06\n"
     ]
    }
   ],
   "source": [
    "# {a, b} 連續a個以上、b個以下\n",
    "# {a,} 連續a個以上，找最多\n",
    "str = 'Today is 2019-May-06'\n",
    "mo = re.search('\\d{1,4}-[A-Za-z]{1,}-\\d{1,2}', str)\n",
    "print(mo.group())"
   ]
  },
  {
   "cell_type": "code",
   "execution_count": 7,
   "metadata": {},
   "outputs": [
    {
     "name": "stdout",
     "output_type": "stream",
     "text": [
      "123\n"
     ]
    }
   ],
   "source": [
    "# + 連續1個以上\n",
    "str = 'abc123'\n",
    "mo = re.search('\\d+', str)\n",
    "print(mo.group())"
   ]
  },
  {
   "cell_type": "code",
   "execution_count": 8,
   "metadata": {},
   "outputs": [
    {
     "name": "stdout",
     "output_type": "stream",
     "text": [
      "\n"
     ]
    }
   ],
   "source": [
    "# * 連續0個以上\n",
    "str = 'abc123'\n",
    "mo = re.search('\\d*', str)\n",
    "print(mo.group())"
   ]
  },
  {
   "cell_type": "code",
   "execution_count": 9,
   "metadata": {},
   "outputs": [
    {
     "name": "stdout",
     "output_type": "stream",
     "text": [
      "\n"
     ]
    }
   ],
   "source": [
    "# ? 連續0個以上，1個以下\n",
    "str = 'abc123'\n",
    "\n",
    "mo = re.search('\\d?', str)\n",
    "print(mo.group())"
   ]
  },
  {
   "cell_type": "markdown",
   "metadata": {},
   "source": [
    "## Group"
   ]
  },
  {
   "cell_type": "code",
   "execution_count": 10,
   "metadata": {},
   "outputs": [
    {
     "name": "stdout",
     "output_type": "stream",
     "text": [
      "Group:\n",
      "2019-May-06\n",
      "2019-May-06\n",
      "2019\n",
      "May\n",
      "06\n",
      "\n",
      "Groups:\n",
      "('2019', 'May', '06')\n",
      "3\n"
     ]
    }
   ],
   "source": [
    "# () group\n",
    "str = 'Today is 2019-May-06'\n",
    "mo = re.search('(\\d{4})-([A-Za-z]{3})-(\\d{2})', str)\n",
    "\n",
    "print('Group:')\n",
    "print(mo.group())\n",
    "print(mo.group(0))\n",
    "print(mo.group(1))\n",
    "print(mo.group(2))\n",
    "print(mo.group(3))\n",
    "print()\n",
    "\n",
    "print('Groups:')\n",
    "print(mo.groups())\n",
    "print(len(mo.groups()))"
   ]
  },
  {
   "cell_type": "markdown",
   "metadata": {},
   "source": [
    "## 斷言"
   ]
  },
  {
   "cell_type": "code",
   "execution_count": 11,
   "metadata": {},
   "outputs": [
    {
     "name": "stdout",
     "output_type": "stream",
     "text": [
      "2019-\n",
      "2019\n"
     ]
    }
   ],
   "source": [
    "# ?= 後面需有\n",
    "# ?! 後面不可有\n",
    "str = '2019-May'\n",
    "mo = re.search('(2019-(?=[A-Za-z]{3}))', str)\n",
    "print(mo.group())\n",
    "\n",
    "mo = re.search('(2019(?![A-Za-z]{3}))', str)\n",
    "print(mo.group())"
   ]
  },
  {
   "cell_type": "markdown",
   "metadata": {},
   "source": [
    "## 頭尾、跨行"
   ]
  },
  {
   "cell_type": "code",
   "execution_count": 12,
   "metadata": {},
   "outputs": [
    {
     "name": "stdout",
     "output_type": "stream",
     "text": [
      "BEGIN hello world END\n"
     ]
    }
   ],
   "source": [
    "# (.*) 中間任何字\n",
    "\n",
    "str = 'BEGIN hello world END'\n",
    "mo = re.search('BEGIN(.*)END', str)\n",
    "print(mo.group())"
   ]
  },
  {
   "cell_type": "code",
   "execution_count": 13,
   "metadata": {},
   "outputs": [
    {
     "name": "stdout",
     "output_type": "stream",
     "text": [
      "BEGIN hello \n",
      "world END\n",
      "\n",
      "None\n",
      "\n",
      "BEGIN hello \n",
      "world END\n"
     ]
    }
   ],
   "source": [
    "str = '''BEGIN hello \n",
    "world END'''\n",
    "print(str)\n",
    "print()\n",
    "\n",
    "mo = re.search('BEGIN(.*)END', str)\n",
    "print(mo)\n",
    "print()\n",
    "\n",
    "# re.DOTALL 跨行\n",
    "mo = re.search('BEGIN(.*)END', str, re.DOTALL)\n",
    "print(mo.group())"
   ]
  },
  {
   "cell_type": "markdown",
   "metadata": {},
   "source": [
    "## 搜尋"
   ]
  },
  {
   "cell_type": "code",
   "execution_count": 14,
   "metadata": {},
   "outputs": [
    {
     "name": "stdout",
     "output_type": "stream",
     "text": [
      "['Hello', 'hello', 'hello']\n"
     ]
    }
   ],
   "source": [
    "# findall 搜尋\n",
    "str = 'Hello Taipei, hello Taiwan, hello world'\n",
    "l = re.findall('hello', str, re.IGNORECASE)\n",
    "print(l)"
   ]
  },
  {
   "cell_type": "markdown",
   "metadata": {},
   "source": [
    "## 替代"
   ]
  },
  {
   "cell_type": "code",
   "execution_count": 15,
   "metadata": {},
   "outputs": [
    {
     "name": "stdout",
     "output_type": "stream",
     "text": [
      "Hello Taipei, hello Taiwan, hello world\n"
     ]
    }
   ],
   "source": [
    "# sub 替換\n",
    "str = 'Hello Taipei, hello Taiwan, hello word'\n",
    "s = re.sub('word', 'world', str, re.IGNORECASE)\n",
    "print(s)"
   ]
  },
  {
   "cell_type": "markdown",
   "metadata": {},
   "source": []
  },
  {
   "cell_type": "code",
   "execution_count": null,
   "metadata": {},
   "outputs": [],
   "source": []
  }
 ],
 "metadata": {
  "kernelspec": {
   "display_name": "Python 3",
   "language": "python",
   "name": "python3"
  },
  "language_info": {
   "codemirror_mode": {
    "name": "ipython",
    "version": 3
   },
   "file_extension": ".py",
   "mimetype": "text/x-python",
   "name": "python",
   "nbconvert_exporter": "python",
   "pygments_lexer": "ipython3",
   "version": "3.6.7"
  }
 },
 "nbformat": 4,
 "nbformat_minor": 2
}

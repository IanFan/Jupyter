{
 "cells": [
  {
   "cell_type": "code",
   "execution_count": 4,
   "metadata": {},
   "outputs": [
    {
     "name": "stdout",
     "output_type": "stream",
     "text": [
      "0.09090909090909091\n"
     ]
    }
   ],
   "source": [
    "a = 0.5\n",
    "\n",
    "b_a = 0.01\n",
    "\n",
    "a2 = (1-a)\n",
    "b_a2 = 0.1\n",
    "\n",
    "b = (a * b_a) + (a2 * b_a2)\n",
    "# b = 0.1\n",
    "\n",
    "a_b = (a * b_a)/b\n",
    "print(a_b)"
   ]
  },
  {
   "cell_type": "markdown",
   "metadata": {},
   "source": [
    "Work"
   ]
  },
  {
   "cell_type": "code",
   "execution_count": 3,
   "metadata": {},
   "outputs": [
    {
     "name": "stdout",
     "output_type": "stream",
     "text": [
      "0.8955223880597015\n"
     ]
    }
   ],
   "source": [
    "a = 0.6818181818181819 # elite\n",
    "\n",
    "b_a = 0.8 # work effort\n",
    "\n",
    "a2 = (1-a)\n",
    "b_a2 = 0.2\n",
    "\n",
    "b = (a * b_a) + (a2 * b_a2)\n",
    "# b = 0.1\n",
    "\n",
    "a_b = (a * b_a)/b\n",
    "print(a_b)"
   ]
  },
  {
   "cell_type": "code",
   "execution_count": null,
   "metadata": {},
   "outputs": [],
   "source": []
  }
 ],
 "metadata": {
  "kernelspec": {
   "display_name": "Python 3",
   "language": "python",
   "name": "python3"
  },
  "language_info": {
   "codemirror_mode": {
    "name": "ipython",
    "version": 3
   },
   "file_extension": ".py",
   "mimetype": "text/x-python",
   "name": "python",
   "nbconvert_exporter": "python",
   "pygments_lexer": "ipython3",
   "version": "3.6.7"
  }
 },
 "nbformat": 4,
 "nbformat_minor": 2
}
